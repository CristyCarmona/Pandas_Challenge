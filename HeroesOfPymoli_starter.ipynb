{
 "cells": [
  {
   "cell_type": "markdown",
   "metadata": {},
   "source": [
    "###### Heroes Of Pymoli Data Analysis\n",
    "* Of the 576 active players, the vast majority are male (84%). There also exists, a smaller, but notable proportion of female players (14%).\n",
    "\n",
    "* Even though most players are male, the female players have a greater average total purchase per person than male players. Which means that they buy, on average, more expensive things than male players.\n",
    "\n",
    "* Our peak age demographic falls between 20-24 (44.8%) with secondary groups falling between 15-19 (18.60%) and 25-29 (13.4%).  This means that young people are the ones who are playing this video game.\n",
    "\n",
    "* Even though the groups between the age of 15-19 and 25-29 represent about 32% of the players, they are not the ones that have the highest average total purchase per player. The group under 10 ($4.54) and between 35-39 ($4.76) are the ones that have the highest average.\n",
    "\n",
    "* The top buyer players purchase between 3-5 items with an average price of $3.40-$4.61. The player with most purchases is Lisosia93.\n",
    "\n",
    "* The most popular item that has been purchased by the players is Final Critic, with an average price of $4.61 each and a total purchase value of $59.99.\n",
    " \n",
    "-----"
   ]
  },
  {
   "cell_type": "markdown",
   "metadata": {},
   "source": [
    "### Note\n",
    "* Instructions have been included for each segment. You do not have to follow them exactly, but they are included to help you think through the steps."
   ]
  },
  {
   "cell_type": "code",
   "execution_count": 1,
   "metadata": {},
   "outputs": [],
   "source": [
    "# Dependencies and Setup\n",
    "import pandas as pd\n",
    "\n",
    "\n",
    "# File to Load\n",
    "file_to_load = \"Resources/purchase_data.csv\"\n",
    "\n",
    "# Read Purchasing File and store into Pandas data frame\n",
    "purchase_data = pd.read_csv(file_to_load)"
   ]
  },
  {
   "cell_type": "markdown",
   "metadata": {},
   "source": [
    "## Player Count"
   ]
  },
  {
   "cell_type": "markdown",
   "metadata": {},
   "source": [
    "* Display the total number of players\n"
   ]
  },
  {
   "cell_type": "code",
   "execution_count": 2,
   "metadata": {},
   "outputs": [
    {
     "data": {
      "text/html": [
       "<div>\n",
       "<style scoped>\n",
       "    .dataframe tbody tr th:only-of-type {\n",
       "        vertical-align: middle;\n",
       "    }\n",
       "\n",
       "    .dataframe tbody tr th {\n",
       "        vertical-align: top;\n",
       "    }\n",
       "\n",
       "    .dataframe thead th {\n",
       "        text-align: right;\n",
       "    }\n",
       "</style>\n",
       "<table border=\"1\" class=\"dataframe\">\n",
       "  <thead>\n",
       "    <tr style=\"text-align: right;\">\n",
       "      <th></th>\n",
       "      <th>Total players</th>\n",
       "    </tr>\n",
       "  </thead>\n",
       "  <tbody>\n",
       "    <tr>\n",
       "      <th>0</th>\n",
       "      <td>576</td>\n",
       "    </tr>\n",
       "  </tbody>\n",
       "</table>\n",
       "</div>"
      ],
      "text/plain": [
       "   Total players\n",
       "0            576"
      ]
     },
     "execution_count": 2,
     "metadata": {},
     "output_type": "execute_result"
    }
   ],
   "source": [
    "#Total players calculation\n",
    "\n",
    "total_players = len(purchase_data.SN.unique()) \n",
    "\n",
    "total_players_df = pd.DataFrame({'Total players':[total_players]})\n",
    "\n",
    "total_players_df"
   ]
  },
  {
   "cell_type": "markdown",
   "metadata": {},
   "source": [
    "## Purchasing Analysis (Total)"
   ]
  },
  {
   "cell_type": "markdown",
   "metadata": {},
   "source": [
    "* Run basic calculations to obtain number of unique items, average price, etc.\n",
    "\n",
    "\n",
    "* Create a summary data frame to hold the results\n",
    "\n",
    "\n",
    "* Optional: give the displayed data cleaner formatting\n",
    "\n",
    "\n",
    "* Display the summary data frame\n"
   ]
  },
  {
   "cell_type": "code",
   "execution_count": 3,
   "metadata": {
    "scrolled": true
   },
   "outputs": [
    {
     "data": {
      "text/html": [
       "<style  type=\"text/css\" >\n",
       "</style><table id=\"T_5110b450_9acf_11ea_bf0f_4074e0caa679\" ><thead>    <tr>        <th class=\"blank level0\" ></th>        <th class=\"col_heading level0 col0\" >Number of unique items</th>        <th class=\"col_heading level0 col1\" >Average Price</th>        <th class=\"col_heading level0 col2\" >Number of purchases</th>        <th class=\"col_heading level0 col3\" >Total Revenue</th>    </tr></thead><tbody>\n",
       "                <tr>\n",
       "                        <th id=\"T_5110b450_9acf_11ea_bf0f_4074e0caa679level0_row0\" class=\"row_heading level0 row0\" >0</th>\n",
       "                        <td id=\"T_5110b450_9acf_11ea_bf0f_4074e0caa679row0_col0\" class=\"data row0 col0\" >179</td>\n",
       "                        <td id=\"T_5110b450_9acf_11ea_bf0f_4074e0caa679row0_col1\" class=\"data row0 col1\" >$                3.05</td>\n",
       "                        <td id=\"T_5110b450_9acf_11ea_bf0f_4074e0caa679row0_col2\" class=\"data row0 col2\" >780</td>\n",
       "                        <td id=\"T_5110b450_9acf_11ea_bf0f_4074e0caa679row0_col3\" class=\"data row0 col3\" >$            2,379.77</td>\n",
       "            </tr>\n",
       "    </tbody></table>"
      ],
      "text/plain": [
       "<pandas.io.formats.style.Styler at 0x22bf65a5fc8>"
      ]
     },
     "execution_count": 3,
     "metadata": {},
     "output_type": "execute_result"
    }
   ],
   "source": [
    "#Basic calculations  \n",
    "unique_items = len(purchase_data['Item ID'].unique())\n",
    "average_price = purchase_data[\"Price\"].mean()\n",
    "number_purchases = len(purchase_data)\n",
    "total_revenue = purchase_data.Price.sum()\n",
    "\n",
    "\n",
    "#Data frame with results  \n",
    "results_summary = pd.DataFrame({'Number of unique items':[unique_items],'Average Price':[average_price],\n",
    "                  'Number of purchases':[number_purchases],'Total Revenue':[total_revenue]})\n",
    "\n",
    "# Data frame formatting and printing \n",
    "results_summary.style.format({\"Average Price\": \"${:20,.2f}\", \n",
    "                          \"Total Revenue\": \"${:20,.2f}\"})\n",
    "\n"
   ]
  },
  {
   "cell_type": "markdown",
   "metadata": {},
   "source": [
    "## Gender Demographics"
   ]
  },
  {
   "cell_type": "markdown",
   "metadata": {},
   "source": [
    "* Percentage and Count of Male Players\n",
    "\n",
    "\n",
    "* Percentage and Count of Female Players\n",
    "\n",
    "\n",
    "* Percentage and Count of Other / Non-Disclosed\n",
    "\n",
    "\n"
   ]
  },
  {
   "cell_type": "code",
   "execution_count": 4,
   "metadata": {},
   "outputs": [
    {
     "data": {
      "text/html": [
       "<style  type=\"text/css\" >\n",
       "</style><table id=\"T_5118a6c6_9acf_11ea_954c_4074e0caa679\" ><thead>    <tr>        <th class=\"blank level0\" ></th>        <th class=\"col_heading level0 col0\" >Total count</th>        <th class=\"col_heading level0 col1\" >Percentage of players</th>    </tr></thead><tbody>\n",
       "                <tr>\n",
       "                        <th id=\"T_5118a6c6_9acf_11ea_954c_4074e0caa679level0_row0\" class=\"row_heading level0 row0\" >Male</th>\n",
       "                        <td id=\"T_5118a6c6_9acf_11ea_954c_4074e0caa679row0_col0\" class=\"data row0 col0\" >484</td>\n",
       "                        <td id=\"T_5118a6c6_9acf_11ea_954c_4074e0caa679row0_col1\" class=\"data row0 col1\" >84.03%</td>\n",
       "            </tr>\n",
       "            <tr>\n",
       "                        <th id=\"T_5118a6c6_9acf_11ea_954c_4074e0caa679level0_row1\" class=\"row_heading level0 row1\" >Female</th>\n",
       "                        <td id=\"T_5118a6c6_9acf_11ea_954c_4074e0caa679row1_col0\" class=\"data row1 col0\" >81</td>\n",
       "                        <td id=\"T_5118a6c6_9acf_11ea_954c_4074e0caa679row1_col1\" class=\"data row1 col1\" >14.06%</td>\n",
       "            </tr>\n",
       "            <tr>\n",
       "                        <th id=\"T_5118a6c6_9acf_11ea_954c_4074e0caa679level0_row2\" class=\"row_heading level0 row2\" >Other / Non-Disclosed</th>\n",
       "                        <td id=\"T_5118a6c6_9acf_11ea_954c_4074e0caa679row2_col0\" class=\"data row2 col0\" >11</td>\n",
       "                        <td id=\"T_5118a6c6_9acf_11ea_954c_4074e0caa679row2_col1\" class=\"data row2 col1\" >1.91%</td>\n",
       "            </tr>\n",
       "    </tbody></table>"
      ],
      "text/plain": [
       "<pandas.io.formats.style.Styler at 0x22bf65a59c8>"
      ]
     },
     "execution_count": 4,
     "metadata": {},
     "output_type": "execute_result"
    }
   ],
   "source": [
    "#Players and Gender extract to eliminate duplicated players \n",
    "extract_players_gender = purchase_data[{\"SN\",\"Gender\"}]\n",
    "\n",
    "#Duplicated players elimination \n",
    "extract_players_gender_noduplicates = extract_players_gender.drop_duplicates()\n",
    "\n",
    "#Percentage and count of players by gender \n",
    "total_count_gender = extract_players_gender_noduplicates[\"Gender\"].value_counts()\n",
    "total_count_gender_sum = total_count_gender.sum()\n",
    "summary_gender_demo = pd.DataFrame({\"Total count\": total_count_gender, \"Percentage of players\": (total_count_gender/total_count_gender_sum)})\n",
    "summary_gender_demo.style.format({\"Percentage of players\": \"{:.2%}\"})\n"
   ]
  },
  {
   "cell_type": "markdown",
   "metadata": {},
   "source": [
    "\n",
    "## Purchasing Analysis (Gender)"
   ]
  },
  {
   "cell_type": "markdown",
   "metadata": {},
   "source": [
    "* Run basic calculations to obtain purchase count, avg. purchase price, avg. purchase total per person etc. by gender\n",
    "\n",
    "\n",
    "\n",
    "\n",
    "* Create a summary data frame to hold the results\n",
    "\n",
    "\n",
    "* Optional: give the displayed data cleaner formatting\n",
    "\n",
    "\n",
    "* Display the summary data frame"
   ]
  },
  {
   "cell_type": "code",
   "execution_count": 5,
   "metadata": {},
   "outputs": [
    {
     "data": {
      "text/html": [
       "<style  type=\"text/css\" >\n",
       "</style><table id=\"T_512087dc_9acf_11ea_b73a_4074e0caa679\" ><thead>    <tr>        <th class=\"blank level0\" ></th>        <th class=\"col_heading level0 col0\" >Purchase Count</th>        <th class=\"col_heading level0 col1\" >Average Purchase Price</th>        <th class=\"col_heading level0 col2\" >Total Purchase Value</th>        <th class=\"col_heading level0 col3\" >Avg Total Purchase per person</th>    </tr>    <tr>        <th class=\"index_name level0\" >Gender</th>        <th class=\"blank\" ></th>        <th class=\"blank\" ></th>        <th class=\"blank\" ></th>        <th class=\"blank\" ></th>    </tr></thead><tbody>\n",
       "                <tr>\n",
       "                        <th id=\"T_512087dc_9acf_11ea_b73a_4074e0caa679level0_row0\" class=\"row_heading level0 row0\" >Female</th>\n",
       "                        <td id=\"T_512087dc_9acf_11ea_b73a_4074e0caa679row0_col0\" class=\"data row0 col0\" >113</td>\n",
       "                        <td id=\"T_512087dc_9acf_11ea_b73a_4074e0caa679row0_col1\" class=\"data row0 col1\" >$                3.20</td>\n",
       "                        <td id=\"T_512087dc_9acf_11ea_b73a_4074e0caa679row0_col2\" class=\"data row0 col2\" >$              361.94</td>\n",
       "                        <td id=\"T_512087dc_9acf_11ea_b73a_4074e0caa679row0_col3\" class=\"data row0 col3\" >$                4.47</td>\n",
       "            </tr>\n",
       "            <tr>\n",
       "                        <th id=\"T_512087dc_9acf_11ea_b73a_4074e0caa679level0_row1\" class=\"row_heading level0 row1\" >Male</th>\n",
       "                        <td id=\"T_512087dc_9acf_11ea_b73a_4074e0caa679row1_col0\" class=\"data row1 col0\" >652</td>\n",
       "                        <td id=\"T_512087dc_9acf_11ea_b73a_4074e0caa679row1_col1\" class=\"data row1 col1\" >$                3.02</td>\n",
       "                        <td id=\"T_512087dc_9acf_11ea_b73a_4074e0caa679row1_col2\" class=\"data row1 col2\" >$            1,967.64</td>\n",
       "                        <td id=\"T_512087dc_9acf_11ea_b73a_4074e0caa679row1_col3\" class=\"data row1 col3\" >$                4.07</td>\n",
       "            </tr>\n",
       "            <tr>\n",
       "                        <th id=\"T_512087dc_9acf_11ea_b73a_4074e0caa679level0_row2\" class=\"row_heading level0 row2\" >Other / Non-Disclosed</th>\n",
       "                        <td id=\"T_512087dc_9acf_11ea_b73a_4074e0caa679row2_col0\" class=\"data row2 col0\" >15</td>\n",
       "                        <td id=\"T_512087dc_9acf_11ea_b73a_4074e0caa679row2_col1\" class=\"data row2 col1\" >$                3.35</td>\n",
       "                        <td id=\"T_512087dc_9acf_11ea_b73a_4074e0caa679row2_col2\" class=\"data row2 col2\" >$               50.19</td>\n",
       "                        <td id=\"T_512087dc_9acf_11ea_b73a_4074e0caa679row2_col3\" class=\"data row2 col3\" >$                4.56</td>\n",
       "            </tr>\n",
       "    </tbody></table>"
      ],
      "text/plain": [
       "<pandas.io.formats.style.Styler at 0x22bf6590508>"
      ]
     },
     "execution_count": 5,
     "metadata": {},
     "output_type": "execute_result"
    }
   ],
   "source": [
    "# Group by Gender for basic calculations \n",
    "grouped_Gender = purchase_data.groupby([\"Gender\"])\n",
    "\n",
    "#Basic calculations purchase count, avg. purchase price, and Total purchase value \n",
    "purchase_count = grouped_Gender[\"Purchase ID\"].count()\n",
    "average_price = grouped_Gender[\"Price\"].mean()\n",
    "total_purch_value = grouped_Gender[\"Price\"].sum()\n",
    "\n",
    "#Group by Gender and Players data frame to obtain the total purchase per player \n",
    "group_gender_SN = purchase_data.groupby([\"Gender\",\"SN\"])\n",
    "avg_per_person_sum = group_gender_SN[\"Price\"].sum()\n",
    "\n",
    "#Group by gender, over the last data frame (group_gender_SN), to obtain the average of the total purchase per player \n",
    "group_gender_person = avg_per_person_sum.groupby([\"Gender\"])\n",
    "avg_tot_purch_person = group_gender_person.mean()\n",
    "\n",
    "#Summary data frame  \n",
    "summary_purch_analy_gender = pd.DataFrame({\"Purchase Count\":purchase_count,\"Average Purchase Price\":average_price,\n",
    "                                          \"Total Purchase Value\":total_purch_value,\n",
    "                                           \"Avg Total Purchase per person\":avg_tot_purch_person})\n",
    "#Formatting and printing summary data frame\n",
    "summary_purch_analy_gender.style.format({\"Average Purchase Price\": \"${:20,.2f}\", \n",
    "                                         \"Total Purchase Value\": \"${:20,.2f}\",\n",
    "                                        \"Avg Total Purchase per person\": \"${:20,.2f}\"})"
   ]
  },
  {
   "cell_type": "markdown",
   "metadata": {},
   "source": [
    "## Age Demographics"
   ]
  },
  {
   "cell_type": "markdown",
   "metadata": {},
   "source": [
    "* Establish bins for ages\n",
    "\n",
    "\n",
    "* Categorize the existing players using the age bins. Hint: use pd.cut()\n",
    "\n",
    "\n",
    "* Calculate the numbers and percentages by age group\n",
    "\n",
    "\n",
    "* Create a summary data frame to hold the results\n",
    "\n",
    "\n",
    "* Optional: round the percentage column to two decimal points\n",
    "\n",
    "\n",
    "* Display Age Demographics Table\n"
   ]
  },
  {
   "cell_type": "code",
   "execution_count": 6,
   "metadata": {
    "scrolled": true
   },
   "outputs": [
    {
     "name": "stderr",
     "output_type": "stream",
     "text": [
      "C:\\Users\\crist\\anaconda3\\envs\\DATAACCM\\lib\\site-packages\\ipykernel_launcher.py:12: SettingWithCopyWarning: \n",
      "A value is trying to be set on a copy of a slice from a DataFrame.\n",
      "Try using .loc[row_indexer,col_indexer] = value instead\n",
      "\n",
      "See the caveats in the documentation: https://pandas.pydata.org/pandas-docs/stable/user_guide/indexing.html#returning-a-view-versus-a-copy\n",
      "  if sys.path[0] == '':\n"
     ]
    },
    {
     "data": {
      "text/html": [
       "<style  type=\"text/css\" >\n",
       "</style><table id=\"T_512a0b70_9acf_11ea_a19c_4074e0caa679\" ><thead>    <tr>        <th class=\"blank level0\" ></th>        <th class=\"col_heading level0 col0\" >Total count</th>        <th class=\"col_heading level0 col1\" >Percentage of players</th>    </tr></thead><tbody>\n",
       "                <tr>\n",
       "                        <th id=\"T_512a0b70_9acf_11ea_a19c_4074e0caa679level0_row0\" class=\"row_heading level0 row0\" ><10</th>\n",
       "                        <td id=\"T_512a0b70_9acf_11ea_a19c_4074e0caa679row0_col0\" class=\"data row0 col0\" >17</td>\n",
       "                        <td id=\"T_512a0b70_9acf_11ea_a19c_4074e0caa679row0_col1\" class=\"data row0 col1\" >2.95%</td>\n",
       "            </tr>\n",
       "            <tr>\n",
       "                        <th id=\"T_512a0b70_9acf_11ea_a19c_4074e0caa679level0_row1\" class=\"row_heading level0 row1\" >10-14</th>\n",
       "                        <td id=\"T_512a0b70_9acf_11ea_a19c_4074e0caa679row1_col0\" class=\"data row1 col0\" >22</td>\n",
       "                        <td id=\"T_512a0b70_9acf_11ea_a19c_4074e0caa679row1_col1\" class=\"data row1 col1\" >3.82%</td>\n",
       "            </tr>\n",
       "            <tr>\n",
       "                        <th id=\"T_512a0b70_9acf_11ea_a19c_4074e0caa679level0_row2\" class=\"row_heading level0 row2\" >15-19</th>\n",
       "                        <td id=\"T_512a0b70_9acf_11ea_a19c_4074e0caa679row2_col0\" class=\"data row2 col0\" >107</td>\n",
       "                        <td id=\"T_512a0b70_9acf_11ea_a19c_4074e0caa679row2_col1\" class=\"data row2 col1\" >18.58%</td>\n",
       "            </tr>\n",
       "            <tr>\n",
       "                        <th id=\"T_512a0b70_9acf_11ea_a19c_4074e0caa679level0_row3\" class=\"row_heading level0 row3\" >20-24</th>\n",
       "                        <td id=\"T_512a0b70_9acf_11ea_a19c_4074e0caa679row3_col0\" class=\"data row3 col0\" >258</td>\n",
       "                        <td id=\"T_512a0b70_9acf_11ea_a19c_4074e0caa679row3_col1\" class=\"data row3 col1\" >44.79%</td>\n",
       "            </tr>\n",
       "            <tr>\n",
       "                        <th id=\"T_512a0b70_9acf_11ea_a19c_4074e0caa679level0_row4\" class=\"row_heading level0 row4\" >25-29</th>\n",
       "                        <td id=\"T_512a0b70_9acf_11ea_a19c_4074e0caa679row4_col0\" class=\"data row4 col0\" >77</td>\n",
       "                        <td id=\"T_512a0b70_9acf_11ea_a19c_4074e0caa679row4_col1\" class=\"data row4 col1\" >13.37%</td>\n",
       "            </tr>\n",
       "            <tr>\n",
       "                        <th id=\"T_512a0b70_9acf_11ea_a19c_4074e0caa679level0_row5\" class=\"row_heading level0 row5\" >30-34</th>\n",
       "                        <td id=\"T_512a0b70_9acf_11ea_a19c_4074e0caa679row5_col0\" class=\"data row5 col0\" >52</td>\n",
       "                        <td id=\"T_512a0b70_9acf_11ea_a19c_4074e0caa679row5_col1\" class=\"data row5 col1\" >9.03%</td>\n",
       "            </tr>\n",
       "            <tr>\n",
       "                        <th id=\"T_512a0b70_9acf_11ea_a19c_4074e0caa679level0_row6\" class=\"row_heading level0 row6\" >35-39</th>\n",
       "                        <td id=\"T_512a0b70_9acf_11ea_a19c_4074e0caa679row6_col0\" class=\"data row6 col0\" >31</td>\n",
       "                        <td id=\"T_512a0b70_9acf_11ea_a19c_4074e0caa679row6_col1\" class=\"data row6 col1\" >5.38%</td>\n",
       "            </tr>\n",
       "            <tr>\n",
       "                        <th id=\"T_512a0b70_9acf_11ea_a19c_4074e0caa679level0_row7\" class=\"row_heading level0 row7\" >40+</th>\n",
       "                        <td id=\"T_512a0b70_9acf_11ea_a19c_4074e0caa679row7_col0\" class=\"data row7 col0\" >12</td>\n",
       "                        <td id=\"T_512a0b70_9acf_11ea_a19c_4074e0caa679row7_col1\" class=\"data row7 col1\" >2.08%</td>\n",
       "            </tr>\n",
       "    </tbody></table>"
      ],
      "text/plain": [
       "<pandas.io.formats.style.Styler at 0x22bf7584108>"
      ]
     },
     "execution_count": 6,
     "metadata": {},
     "output_type": "execute_result"
    }
   ],
   "source": [
    "#Players and age extract to eliminate duplicated players \n",
    "extract_players_gender_age = purchase_data.loc[:,[\"SN\",\"Age\"]]\n",
    "extract_noduplicates = extract_players_gender_age.drop_duplicates()\n",
    "\n",
    "#Bins to categorize the age of each player into ranks (age group)  \n",
    "bins = [0,9,14,19,24,29,34,39,50]\n",
    "\n",
    "group_names = [\"<10\",\"10-14\",\"15-19\",\"20-24\",\"25-29\",\"30-34\",\"35-39\",\"40+\"]\n",
    "\n",
    "#Adding a column with the age group for each player over the data frame \n",
    "#with no duplicated players (extract_noduplicates)\n",
    "extract_noduplicates[\"Age Group\"] = pd.cut(extract_noduplicates[\"Age\"], bins, labels=group_names, include_lowest=False)\n",
    "\n",
    "extract_noduplicates_copy = extract_noduplicates.copy()\n",
    "\n",
    "#Count the number of players for each age group\n",
    "age_demographic_count = extract_noduplicates_copy[\"Age Group\"].value_counts()\n",
    "\n",
    "age_demographic_sum = age_demographic_count.sum()\n",
    "\n",
    "# Percentage(%) of players for each age group calculation and Summary data frame.   \n",
    "summary_age_demo_df = pd.DataFrame({\"Total count\": age_demographic_count, \"Percentage of players\": (age_demographic_count/age_demographic_sum) })\n",
    "\n",
    "#Formating and printing\n",
    "summary_age_demo_df.sort_index(axis=0,ascending=True).style.format({\"Percentage of players\": \"{:.2%}\"})"
   ]
  },
  {
   "cell_type": "markdown",
   "metadata": {},
   "source": [
    "## Purchasing Analysis (Age)"
   ]
  },
  {
   "cell_type": "markdown",
   "metadata": {},
   "source": [
    "* Bin the purchase_data data frame by age\n",
    "\n",
    "\n",
    "* Run basic calculations to obtain purchase count, avg. purchase price, avg. purchase total per person etc. in the table below\n",
    "\n",
    "\n",
    "* Create a summary data frame to hold the results\n",
    "\n",
    "\n",
    "* Optional: give the displayed data cleaner formatting\n",
    "\n",
    "\n",
    "* Display the summary data frame"
   ]
  },
  {
   "cell_type": "code",
   "execution_count": 7,
   "metadata": {},
   "outputs": [
    {
     "data": {
      "text/html": [
       "<style  type=\"text/css\" >\n",
       "</style><table id=\"T_514199de_9acf_11ea_a704_4074e0caa679\" ><thead>    <tr>        <th class=\"blank level0\" ></th>        <th class=\"col_heading level0 col0\" >Purchase Count</th>        <th class=\"col_heading level0 col1\" >Average Purchase Price</th>        <th class=\"col_heading level0 col2\" >Total Purchase Value</th>        <th class=\"col_heading level0 col3\" >Avg Total Purchase per person</th>    </tr>    <tr>        <th class=\"index_name level0\" >Age Group</th>        <th class=\"blank\" ></th>        <th class=\"blank\" ></th>        <th class=\"blank\" ></th>        <th class=\"blank\" ></th>    </tr></thead><tbody>\n",
       "                <tr>\n",
       "                        <th id=\"T_514199de_9acf_11ea_a704_4074e0caa679level0_row0\" class=\"row_heading level0 row0\" ><10</th>\n",
       "                        <td id=\"T_514199de_9acf_11ea_a704_4074e0caa679row0_col0\" class=\"data row0 col0\" >23</td>\n",
       "                        <td id=\"T_514199de_9acf_11ea_a704_4074e0caa679row0_col1\" class=\"data row0 col1\" >$                3.35</td>\n",
       "                        <td id=\"T_514199de_9acf_11ea_a704_4074e0caa679row0_col2\" class=\"data row0 col2\" >$               77.13</td>\n",
       "                        <td id=\"T_514199de_9acf_11ea_a704_4074e0caa679row0_col3\" class=\"data row0 col3\" >$                4.54</td>\n",
       "            </tr>\n",
       "            <tr>\n",
       "                        <th id=\"T_514199de_9acf_11ea_a704_4074e0caa679level0_row1\" class=\"row_heading level0 row1\" >10-14</th>\n",
       "                        <td id=\"T_514199de_9acf_11ea_a704_4074e0caa679row1_col0\" class=\"data row1 col0\" >28</td>\n",
       "                        <td id=\"T_514199de_9acf_11ea_a704_4074e0caa679row1_col1\" class=\"data row1 col1\" >$                2.96</td>\n",
       "                        <td id=\"T_514199de_9acf_11ea_a704_4074e0caa679row1_col2\" class=\"data row1 col2\" >$               82.78</td>\n",
       "                        <td id=\"T_514199de_9acf_11ea_a704_4074e0caa679row1_col3\" class=\"data row1 col3\" >$                3.76</td>\n",
       "            </tr>\n",
       "            <tr>\n",
       "                        <th id=\"T_514199de_9acf_11ea_a704_4074e0caa679level0_row2\" class=\"row_heading level0 row2\" >15-19</th>\n",
       "                        <td id=\"T_514199de_9acf_11ea_a704_4074e0caa679row2_col0\" class=\"data row2 col0\" >136</td>\n",
       "                        <td id=\"T_514199de_9acf_11ea_a704_4074e0caa679row2_col1\" class=\"data row2 col1\" >$                3.04</td>\n",
       "                        <td id=\"T_514199de_9acf_11ea_a704_4074e0caa679row2_col2\" class=\"data row2 col2\" >$              412.89</td>\n",
       "                        <td id=\"T_514199de_9acf_11ea_a704_4074e0caa679row2_col3\" class=\"data row2 col3\" >$                3.86</td>\n",
       "            </tr>\n",
       "            <tr>\n",
       "                        <th id=\"T_514199de_9acf_11ea_a704_4074e0caa679level0_row3\" class=\"row_heading level0 row3\" >20-24</th>\n",
       "                        <td id=\"T_514199de_9acf_11ea_a704_4074e0caa679row3_col0\" class=\"data row3 col0\" >365</td>\n",
       "                        <td id=\"T_514199de_9acf_11ea_a704_4074e0caa679row3_col1\" class=\"data row3 col1\" >$                3.05</td>\n",
       "                        <td id=\"T_514199de_9acf_11ea_a704_4074e0caa679row3_col2\" class=\"data row3 col2\" >$            1,114.06</td>\n",
       "                        <td id=\"T_514199de_9acf_11ea_a704_4074e0caa679row3_col3\" class=\"data row3 col3\" >$                4.32</td>\n",
       "            </tr>\n",
       "            <tr>\n",
       "                        <th id=\"T_514199de_9acf_11ea_a704_4074e0caa679level0_row4\" class=\"row_heading level0 row4\" >25-29</th>\n",
       "                        <td id=\"T_514199de_9acf_11ea_a704_4074e0caa679row4_col0\" class=\"data row4 col0\" >101</td>\n",
       "                        <td id=\"T_514199de_9acf_11ea_a704_4074e0caa679row4_col1\" class=\"data row4 col1\" >$                2.90</td>\n",
       "                        <td id=\"T_514199de_9acf_11ea_a704_4074e0caa679row4_col2\" class=\"data row4 col2\" >$              293.00</td>\n",
       "                        <td id=\"T_514199de_9acf_11ea_a704_4074e0caa679row4_col3\" class=\"data row4 col3\" >$                3.81</td>\n",
       "            </tr>\n",
       "            <tr>\n",
       "                        <th id=\"T_514199de_9acf_11ea_a704_4074e0caa679level0_row5\" class=\"row_heading level0 row5\" >30-34</th>\n",
       "                        <td id=\"T_514199de_9acf_11ea_a704_4074e0caa679row5_col0\" class=\"data row5 col0\" >73</td>\n",
       "                        <td id=\"T_514199de_9acf_11ea_a704_4074e0caa679row5_col1\" class=\"data row5 col1\" >$                2.93</td>\n",
       "                        <td id=\"T_514199de_9acf_11ea_a704_4074e0caa679row5_col2\" class=\"data row5 col2\" >$              214.00</td>\n",
       "                        <td id=\"T_514199de_9acf_11ea_a704_4074e0caa679row5_col3\" class=\"data row5 col3\" >$                4.12</td>\n",
       "            </tr>\n",
       "            <tr>\n",
       "                        <th id=\"T_514199de_9acf_11ea_a704_4074e0caa679level0_row6\" class=\"row_heading level0 row6\" >35-39</th>\n",
       "                        <td id=\"T_514199de_9acf_11ea_a704_4074e0caa679row6_col0\" class=\"data row6 col0\" >41</td>\n",
       "                        <td id=\"T_514199de_9acf_11ea_a704_4074e0caa679row6_col1\" class=\"data row6 col1\" >$                3.60</td>\n",
       "                        <td id=\"T_514199de_9acf_11ea_a704_4074e0caa679row6_col2\" class=\"data row6 col2\" >$              147.67</td>\n",
       "                        <td id=\"T_514199de_9acf_11ea_a704_4074e0caa679row6_col3\" class=\"data row6 col3\" >$                4.76</td>\n",
       "            </tr>\n",
       "            <tr>\n",
       "                        <th id=\"T_514199de_9acf_11ea_a704_4074e0caa679level0_row7\" class=\"row_heading level0 row7\" >40+</th>\n",
       "                        <td id=\"T_514199de_9acf_11ea_a704_4074e0caa679row7_col0\" class=\"data row7 col0\" >13</td>\n",
       "                        <td id=\"T_514199de_9acf_11ea_a704_4074e0caa679row7_col1\" class=\"data row7 col1\" >$                2.94</td>\n",
       "                        <td id=\"T_514199de_9acf_11ea_a704_4074e0caa679row7_col2\" class=\"data row7 col2\" >$               38.24</td>\n",
       "                        <td id=\"T_514199de_9acf_11ea_a704_4074e0caa679row7_col3\" class=\"data row7 col3\" >$                3.19</td>\n",
       "            </tr>\n",
       "    </tbody></table>"
      ],
      "text/plain": [
       "<pandas.io.formats.style.Styler at 0x22bf6590948>"
      ]
     },
     "execution_count": 7,
     "metadata": {},
     "output_type": "execute_result"
    }
   ],
   "source": [
    "#Bins to categorize the age of each player into ranks (age group) \n",
    "bins = [0,9,14,19,24,29,34,39,50]\n",
    "\n",
    "group_names = [\"<10\",\"10-14\",\"15-19\",\"20-24\",\"25-29\",\"30-34\",\"35-39\",\"40+\"]\n",
    "\n",
    "#Adding a column with the age group for each player over the original data frame\n",
    "purchase_data[\"Age Group\"] = pd.cut(purchase_data[\"Age\"], bins, labels=group_names, include_lowest=False)\n",
    "\n",
    "purchase_data_copy = purchase_data.copy()\n",
    "\n",
    "# group by Age Group \n",
    "grouped_AgeGroup = purchase_data_copy.groupby([\"Age Group\"])\n",
    "\n",
    "#Basic Calculations by Age Group (Purchase Count, Average Purchase price, and Total Purchase Value) \n",
    "purchase_count = grouped_AgeGroup[\"Purchase ID\"].count()\n",
    "average_price = grouped_AgeGroup[\"Price\"].mean()\n",
    "total_purch_value = grouped_AgeGroup[\"Price\"].sum()\n",
    "\n",
    "#Group by Age Group and Player to calculate the Total purchase per player \n",
    "group_agegroup_SN = purchase_data_copy.groupby([\"Age Group\",\"SN\"])\n",
    "avg_per_person_total = group_agegroup_SN[\"Price\"].sum()\n",
    "\n",
    "#Group only by Age Group the last data frame (avg_per_person_sum) to calculate \n",
    "#the Average Total Purchase per player. \n",
    "group_AgeGroup = avg_per_person_total.groupby([\"Age Group\"])\n",
    "avg_tot_purch_person = group_AgeGroup.mean()\n",
    "\n",
    "#Summary data frame  \n",
    "summary_purch_analy_gender = pd.DataFrame({\"Purchase Count\":purchase_count,\"Average Purchase Price\":average_price,\n",
    "                                          \"Total Purchase Value\":total_purch_value,\n",
    "                                           \"Avg Total Purchase per person\":avg_tot_purch_person})\n",
    "#Formatting and printing \n",
    "summary_purch_analy_gender.style.format({\"Average Purchase Price\": \"${:20,.2f}\", \n",
    "                                         \"Total Purchase Value\": \"${:20,.2f}\",\n",
    "                                        \"Avg Total Purchase per person\": \"${:20,.2f}\"})"
   ]
  },
  {
   "cell_type": "markdown",
   "metadata": {},
   "source": [
    "## Top Spenders"
   ]
  },
  {
   "cell_type": "markdown",
   "metadata": {},
   "source": [
    "* Run basic calculations to obtain the results in the table below\n",
    "\n",
    "\n",
    "* Create a summary data frame to hold the results\n",
    "\n",
    "\n",
    "* Sort the total purchase value column in descending order\n",
    "\n",
    "\n",
    "* Optional: give the displayed data cleaner formatting\n",
    "\n",
    "\n",
    "* Display a preview of the summary data frame\n",
    "\n"
   ]
  },
  {
   "cell_type": "code",
   "execution_count": 8,
   "metadata": {},
   "outputs": [
    {
     "data": {
      "text/html": [
       "<style  type=\"text/css\" >\n",
       "</style><table id=\"T_5146c74c_9acf_11ea_ac80_4074e0caa679\" ><thead>    <tr>        <th class=\"blank level0\" ></th>        <th class=\"col_heading level0 col0\" >Purchase Count</th>        <th class=\"col_heading level0 col1\" >Average Purchase Price</th>        <th class=\"col_heading level0 col2\" >Total Purchase Value</th>    </tr>    <tr>        <th class=\"index_name level0\" >SN</th>        <th class=\"blank\" ></th>        <th class=\"blank\" ></th>        <th class=\"blank\" ></th>    </tr></thead><tbody>\n",
       "                <tr>\n",
       "                        <th id=\"T_5146c74c_9acf_11ea_ac80_4074e0caa679level0_row0\" class=\"row_heading level0 row0\" >Lisosia93</th>\n",
       "                        <td id=\"T_5146c74c_9acf_11ea_ac80_4074e0caa679row0_col0\" class=\"data row0 col0\" >5</td>\n",
       "                        <td id=\"T_5146c74c_9acf_11ea_ac80_4074e0caa679row0_col1\" class=\"data row0 col1\" >$                3.79</td>\n",
       "                        <td id=\"T_5146c74c_9acf_11ea_ac80_4074e0caa679row0_col2\" class=\"data row0 col2\" >$               18.96</td>\n",
       "            </tr>\n",
       "            <tr>\n",
       "                        <th id=\"T_5146c74c_9acf_11ea_ac80_4074e0caa679level0_row1\" class=\"row_heading level0 row1\" >Idastidru52</th>\n",
       "                        <td id=\"T_5146c74c_9acf_11ea_ac80_4074e0caa679row1_col0\" class=\"data row1 col0\" >4</td>\n",
       "                        <td id=\"T_5146c74c_9acf_11ea_ac80_4074e0caa679row1_col1\" class=\"data row1 col1\" >$                3.86</td>\n",
       "                        <td id=\"T_5146c74c_9acf_11ea_ac80_4074e0caa679row1_col2\" class=\"data row1 col2\" >$               15.45</td>\n",
       "            </tr>\n",
       "            <tr>\n",
       "                        <th id=\"T_5146c74c_9acf_11ea_ac80_4074e0caa679level0_row2\" class=\"row_heading level0 row2\" >Chamjask73</th>\n",
       "                        <td id=\"T_5146c74c_9acf_11ea_ac80_4074e0caa679row2_col0\" class=\"data row2 col0\" >3</td>\n",
       "                        <td id=\"T_5146c74c_9acf_11ea_ac80_4074e0caa679row2_col1\" class=\"data row2 col1\" >$                4.61</td>\n",
       "                        <td id=\"T_5146c74c_9acf_11ea_ac80_4074e0caa679row2_col2\" class=\"data row2 col2\" >$               13.83</td>\n",
       "            </tr>\n",
       "            <tr>\n",
       "                        <th id=\"T_5146c74c_9acf_11ea_ac80_4074e0caa679level0_row3\" class=\"row_heading level0 row3\" >Iral74</th>\n",
       "                        <td id=\"T_5146c74c_9acf_11ea_ac80_4074e0caa679row3_col0\" class=\"data row3 col0\" >4</td>\n",
       "                        <td id=\"T_5146c74c_9acf_11ea_ac80_4074e0caa679row3_col1\" class=\"data row3 col1\" >$                3.40</td>\n",
       "                        <td id=\"T_5146c74c_9acf_11ea_ac80_4074e0caa679row3_col2\" class=\"data row3 col2\" >$               13.62</td>\n",
       "            </tr>\n",
       "            <tr>\n",
       "                        <th id=\"T_5146c74c_9acf_11ea_ac80_4074e0caa679level0_row4\" class=\"row_heading level0 row4\" >Iskadarya95</th>\n",
       "                        <td id=\"T_5146c74c_9acf_11ea_ac80_4074e0caa679row4_col0\" class=\"data row4 col0\" >3</td>\n",
       "                        <td id=\"T_5146c74c_9acf_11ea_ac80_4074e0caa679row4_col1\" class=\"data row4 col1\" >$                4.37</td>\n",
       "                        <td id=\"T_5146c74c_9acf_11ea_ac80_4074e0caa679row4_col2\" class=\"data row4 col2\" >$               13.10</td>\n",
       "            </tr>\n",
       "    </tbody></table>"
      ],
      "text/plain": [
       "<pandas.io.formats.style.Styler at 0x22bf751ca08>"
      ]
     },
     "execution_count": 8,
     "metadata": {},
     "output_type": "execute_result"
    }
   ],
   "source": [
    "# Group by player\n",
    "grouped_SN = purchase_data_copy.groupby([\"SN\"])\n",
    "\n",
    "#Basic calculations  \n",
    "purchase_count = grouped_SN[\"Purchase ID\"].count()\n",
    "average_price = grouped_SN[\"Price\"].mean()\n",
    "total_purch_value = grouped_SN[\"Price\"].sum()\n",
    "\n",
    "#Summary data frame  \n",
    "summary_purch_analy_SN = pd.DataFrame({\"Purchase Count\":purchase_count,\"Average Purchase Price\":average_price,\n",
    "                                          \"Total Purchase Value\":total_purch_value})\n",
    "\n",
    "#Sort summary data frame by Total Purchase Value\n",
    "summary_print = summary_purch_analy_SN.sort_values(\"Total Purchase Value\",ascending=False)\n",
    "\n",
    "#Formatting and printing\n",
    "summary_print.head(5).style.format({\"Average Purchase Price\": \"${:20,.2f}\", \n",
    "                                         \"Total Purchase Value\": \"${:20,.2f}\"})"
   ]
  },
  {
   "cell_type": "markdown",
   "metadata": {},
   "source": [
    "## Most Popular Items"
   ]
  },
  {
   "cell_type": "markdown",
   "metadata": {},
   "source": [
    "* Retrieve the Item ID, Item Name, and Item Price columns\n",
    "\n",
    "\n",
    "* Group by Item ID and Item Name. Perform calculations to obtain purchase count, item price, and total purchase value\n",
    "\n",
    "\n",
    "* Create a summary data frame to hold the results\n",
    "\n",
    "\n",
    "* Sort the purchase count column in descending order\n",
    "\n",
    "\n",
    "* Optional: give the displayed data cleaner formatting\n",
    "\n",
    "\n",
    "* Display a preview of the summary data frame\n",
    "\n"
   ]
  },
  {
   "cell_type": "code",
   "execution_count": 9,
   "metadata": {},
   "outputs": [
    {
     "data": {
      "text/html": [
       "<style  type=\"text/css\" >\n",
       "</style><table id=\"T_514e0d6e_9acf_11ea_b2b2_4074e0caa679\" ><thead>    <tr>        <th class=\"blank\" ></th>        <th class=\"blank level0\" ></th>        <th class=\"col_heading level0 col0\" >Purchase Count</th>        <th class=\"col_heading level0 col1\" >Average Purchase Price</th>        <th class=\"col_heading level0 col2\" >Total Purchase Value</th>    </tr>    <tr>        <th class=\"index_name level0\" >Item ID</th>        <th class=\"index_name level1\" >Item Name</th>        <th class=\"blank\" ></th>        <th class=\"blank\" ></th>        <th class=\"blank\" ></th>    </tr></thead><tbody>\n",
       "                <tr>\n",
       "                        <th id=\"T_514e0d6e_9acf_11ea_b2b2_4074e0caa679level0_row0\" class=\"row_heading level0 row0\" >92</th>\n",
       "                        <th id=\"T_514e0d6e_9acf_11ea_b2b2_4074e0caa679level1_row0\" class=\"row_heading level1 row0\" >Final Critic</th>\n",
       "                        <td id=\"T_514e0d6e_9acf_11ea_b2b2_4074e0caa679row0_col0\" class=\"data row0 col0\" >13</td>\n",
       "                        <td id=\"T_514e0d6e_9acf_11ea_b2b2_4074e0caa679row0_col1\" class=\"data row0 col1\" >$                4.61</td>\n",
       "                        <td id=\"T_514e0d6e_9acf_11ea_b2b2_4074e0caa679row0_col2\" class=\"data row0 col2\" >$               59.99</td>\n",
       "            </tr>\n",
       "            <tr>\n",
       "                        <th id=\"T_514e0d6e_9acf_11ea_b2b2_4074e0caa679level0_row1\" class=\"row_heading level0 row1\" >178</th>\n",
       "                        <th id=\"T_514e0d6e_9acf_11ea_b2b2_4074e0caa679level1_row1\" class=\"row_heading level1 row1\" >Oathbreaker, Last Hope of the Breaking Storm</th>\n",
       "                        <td id=\"T_514e0d6e_9acf_11ea_b2b2_4074e0caa679row1_col0\" class=\"data row1 col0\" >12</td>\n",
       "                        <td id=\"T_514e0d6e_9acf_11ea_b2b2_4074e0caa679row1_col1\" class=\"data row1 col1\" >$                4.23</td>\n",
       "                        <td id=\"T_514e0d6e_9acf_11ea_b2b2_4074e0caa679row1_col2\" class=\"data row1 col2\" >$               50.76</td>\n",
       "            </tr>\n",
       "            <tr>\n",
       "                        <th id=\"T_514e0d6e_9acf_11ea_b2b2_4074e0caa679level0_row2\" class=\"row_heading level0 row2\" >145</th>\n",
       "                        <th id=\"T_514e0d6e_9acf_11ea_b2b2_4074e0caa679level1_row2\" class=\"row_heading level1 row2\" >Fiery Glass Crusader</th>\n",
       "                        <td id=\"T_514e0d6e_9acf_11ea_b2b2_4074e0caa679row2_col0\" class=\"data row2 col0\" >9</td>\n",
       "                        <td id=\"T_514e0d6e_9acf_11ea_b2b2_4074e0caa679row2_col1\" class=\"data row2 col1\" >$                4.58</td>\n",
       "                        <td id=\"T_514e0d6e_9acf_11ea_b2b2_4074e0caa679row2_col2\" class=\"data row2 col2\" >$               41.22</td>\n",
       "            </tr>\n",
       "            <tr>\n",
       "                        <th id=\"T_514e0d6e_9acf_11ea_b2b2_4074e0caa679level0_row3\" class=\"row_heading level0 row3\" >132</th>\n",
       "                        <th id=\"T_514e0d6e_9acf_11ea_b2b2_4074e0caa679level1_row3\" class=\"row_heading level1 row3\" >Persuasion</th>\n",
       "                        <td id=\"T_514e0d6e_9acf_11ea_b2b2_4074e0caa679row3_col0\" class=\"data row3 col0\" >9</td>\n",
       "                        <td id=\"T_514e0d6e_9acf_11ea_b2b2_4074e0caa679row3_col1\" class=\"data row3 col1\" >$                3.22</td>\n",
       "                        <td id=\"T_514e0d6e_9acf_11ea_b2b2_4074e0caa679row3_col2\" class=\"data row3 col2\" >$               28.99</td>\n",
       "            </tr>\n",
       "            <tr>\n",
       "                        <th id=\"T_514e0d6e_9acf_11ea_b2b2_4074e0caa679level0_row4\" class=\"row_heading level0 row4\" >108</th>\n",
       "                        <th id=\"T_514e0d6e_9acf_11ea_b2b2_4074e0caa679level1_row4\" class=\"row_heading level1 row4\" >Extraction, Quickblade Of Trembling Hands</th>\n",
       "                        <td id=\"T_514e0d6e_9acf_11ea_b2b2_4074e0caa679row4_col0\" class=\"data row4 col0\" >9</td>\n",
       "                        <td id=\"T_514e0d6e_9acf_11ea_b2b2_4074e0caa679row4_col1\" class=\"data row4 col1\" >$                3.53</td>\n",
       "                        <td id=\"T_514e0d6e_9acf_11ea_b2b2_4074e0caa679row4_col2\" class=\"data row4 col2\" >$               31.77</td>\n",
       "            </tr>\n",
       "    </tbody></table>"
      ],
      "text/plain": [
       "<pandas.io.formats.style.Styler at 0x22bf75d9b08>"
      ]
     },
     "execution_count": 9,
     "metadata": {},
     "output_type": "execute_result"
    }
   ],
   "source": [
    "#Extract of columns \"Item ID\",\"Item Name\" and \"Price\" from the original data frame  \n",
    "extract_item_name_price = purchase_data.loc[:,[\"Item ID\",\"Item Name\",\"Price\"]]\n",
    "\n",
    "# Group by Item ID and Item Name\n",
    "grouped_item = extract_item_name_price.groupby([\"Item ID\",\"Item Name\"])\n",
    "\n",
    "#Basic calculations: Purchase Count, Average Purchase Price and Total Purchase Value  \n",
    "item_count = grouped_item[\"Item ID\"].count()\n",
    "average_price_item = grouped_item[\"Price\"].mean()\n",
    "total_purch_item = grouped_item[\"Price\"].sum()\n",
    "\n",
    "#Summary data frame\n",
    "summary_purch_analy_item = pd.DataFrame({\"Purchase Count\":item_count,\"Average Purchase Price\":average_price_item,\n",
    "                                          \"Total Purchase Value\":total_purch_item})\n",
    "\n",
    "#Sort of summary data frame by Purchase Count\n",
    "summary_print = summary_purch_analy_item.sort_values(\"Purchase Count\",ascending=False)\n",
    "\n",
    "#Formatting and printing \n",
    "summary_print.head(5).style.format({\"Average Purchase Price\": \"${:20,.2f}\", \n",
    "                                         \"Total Purchase Value\": \"${:20,.2f}\"})\n"
   ]
  },
  {
   "cell_type": "markdown",
   "metadata": {},
   "source": [
    "## Most Profitable Items"
   ]
  },
  {
   "cell_type": "markdown",
   "metadata": {},
   "source": [
    "* Sort the above table by total purchase value in descending order\n",
    "\n",
    "\n",
    "* Optional: give the displayed data cleaner formatting\n",
    "\n",
    "\n",
    "* Display a preview of the data frame\n",
    "\n"
   ]
  },
  {
   "cell_type": "code",
   "execution_count": 10,
   "metadata": {
    "scrolled": true
   },
   "outputs": [
    {
     "data": {
      "text/html": [
       "<style  type=\"text/css\" >\n",
       "</style><table id=\"T_51525e50_9acf_11ea_b471_4074e0caa679\" ><thead>    <tr>        <th class=\"blank\" ></th>        <th class=\"blank level0\" ></th>        <th class=\"col_heading level0 col0\" >Purchase Count</th>        <th class=\"col_heading level0 col1\" >Average Purchase Price</th>        <th class=\"col_heading level0 col2\" >Total Purchase Value</th>    </tr>    <tr>        <th class=\"index_name level0\" >Item ID</th>        <th class=\"index_name level1\" >Item Name</th>        <th class=\"blank\" ></th>        <th class=\"blank\" ></th>        <th class=\"blank\" ></th>    </tr></thead><tbody>\n",
       "                <tr>\n",
       "                        <th id=\"T_51525e50_9acf_11ea_b471_4074e0caa679level0_row0\" class=\"row_heading level0 row0\" >92</th>\n",
       "                        <th id=\"T_51525e50_9acf_11ea_b471_4074e0caa679level1_row0\" class=\"row_heading level1 row0\" >Final Critic</th>\n",
       "                        <td id=\"T_51525e50_9acf_11ea_b471_4074e0caa679row0_col0\" class=\"data row0 col0\" >13</td>\n",
       "                        <td id=\"T_51525e50_9acf_11ea_b471_4074e0caa679row0_col1\" class=\"data row0 col1\" >$                4.61</td>\n",
       "                        <td id=\"T_51525e50_9acf_11ea_b471_4074e0caa679row0_col2\" class=\"data row0 col2\" >$               59.99</td>\n",
       "            </tr>\n",
       "            <tr>\n",
       "                        <th id=\"T_51525e50_9acf_11ea_b471_4074e0caa679level0_row1\" class=\"row_heading level0 row1\" >178</th>\n",
       "                        <th id=\"T_51525e50_9acf_11ea_b471_4074e0caa679level1_row1\" class=\"row_heading level1 row1\" >Oathbreaker, Last Hope of the Breaking Storm</th>\n",
       "                        <td id=\"T_51525e50_9acf_11ea_b471_4074e0caa679row1_col0\" class=\"data row1 col0\" >12</td>\n",
       "                        <td id=\"T_51525e50_9acf_11ea_b471_4074e0caa679row1_col1\" class=\"data row1 col1\" >$                4.23</td>\n",
       "                        <td id=\"T_51525e50_9acf_11ea_b471_4074e0caa679row1_col2\" class=\"data row1 col2\" >$               50.76</td>\n",
       "            </tr>\n",
       "            <tr>\n",
       "                        <th id=\"T_51525e50_9acf_11ea_b471_4074e0caa679level0_row2\" class=\"row_heading level0 row2\" >82</th>\n",
       "                        <th id=\"T_51525e50_9acf_11ea_b471_4074e0caa679level1_row2\" class=\"row_heading level1 row2\" >Nirvana</th>\n",
       "                        <td id=\"T_51525e50_9acf_11ea_b471_4074e0caa679row2_col0\" class=\"data row2 col0\" >9</td>\n",
       "                        <td id=\"T_51525e50_9acf_11ea_b471_4074e0caa679row2_col1\" class=\"data row2 col1\" >$                4.90</td>\n",
       "                        <td id=\"T_51525e50_9acf_11ea_b471_4074e0caa679row2_col2\" class=\"data row2 col2\" >$               44.10</td>\n",
       "            </tr>\n",
       "            <tr>\n",
       "                        <th id=\"T_51525e50_9acf_11ea_b471_4074e0caa679level0_row3\" class=\"row_heading level0 row3\" >145</th>\n",
       "                        <th id=\"T_51525e50_9acf_11ea_b471_4074e0caa679level1_row3\" class=\"row_heading level1 row3\" >Fiery Glass Crusader</th>\n",
       "                        <td id=\"T_51525e50_9acf_11ea_b471_4074e0caa679row3_col0\" class=\"data row3 col0\" >9</td>\n",
       "                        <td id=\"T_51525e50_9acf_11ea_b471_4074e0caa679row3_col1\" class=\"data row3 col1\" >$                4.58</td>\n",
       "                        <td id=\"T_51525e50_9acf_11ea_b471_4074e0caa679row3_col2\" class=\"data row3 col2\" >$               41.22</td>\n",
       "            </tr>\n",
       "            <tr>\n",
       "                        <th id=\"T_51525e50_9acf_11ea_b471_4074e0caa679level0_row4\" class=\"row_heading level0 row4\" >103</th>\n",
       "                        <th id=\"T_51525e50_9acf_11ea_b471_4074e0caa679level1_row4\" class=\"row_heading level1 row4\" >Singed Scalpel</th>\n",
       "                        <td id=\"T_51525e50_9acf_11ea_b471_4074e0caa679row4_col0\" class=\"data row4 col0\" >8</td>\n",
       "                        <td id=\"T_51525e50_9acf_11ea_b471_4074e0caa679row4_col1\" class=\"data row4 col1\" >$                4.35</td>\n",
       "                        <td id=\"T_51525e50_9acf_11ea_b471_4074e0caa679row4_col2\" class=\"data row4 col2\" >$               34.80</td>\n",
       "            </tr>\n",
       "    </tbody></table>"
      ],
      "text/plain": [
       "<pandas.io.formats.style.Styler at 0x22bf75e6408>"
      ]
     },
     "execution_count": 10,
     "metadata": {},
     "output_type": "execute_result"
    }
   ],
   "source": [
    "#Sort of summary item data frame by Total Purchase Value\n",
    "summary_print = summary_purch_analy_item.sort_values(\"Total Purchase Value\",ascending=False)\n",
    "\n",
    "#Formatting and printing \n",
    "summary_print.head(5).style.format({\"Average Purchase Price\": \"${:20,.2f}\", \n",
    "                                         \"Total Purchase Value\": \"${:20,.2f}\"})"
   ]
  }
 ],
 "metadata": {
  "anaconda-cloud": {},
  "kernel_info": {
   "name": "python3"
  },
  "kernelspec": {
   "display_name": "Python 3",
   "language": "python",
   "name": "python3"
  },
  "language_info": {
   "codemirror_mode": {
    "name": "ipython",
    "version": 3
   },
   "file_extension": ".py",
   "mimetype": "text/x-python",
   "name": "python",
   "nbconvert_exporter": "python",
   "pygments_lexer": "ipython3",
   "version": "3.7.6"
  },
  "latex_envs": {
   "LaTeX_envs_menu_present": true,
   "autoclose": false,
   "autocomplete": true,
   "bibliofile": "biblio.bib",
   "cite_by": "apalike",
   "current_citInitial": 1,
   "eqLabelWithNumbers": true,
   "eqNumInitial": 1,
   "hotkeys": {
    "equation": "Ctrl-E",
    "itemize": "Ctrl-I"
   },
   "labels_anchors": false,
   "latex_user_defs": false,
   "report_style_numbering": false,
   "user_envs_cfg": false
  },
  "nteract": {
   "version": "0.2.0"
  }
 },
 "nbformat": 4,
 "nbformat_minor": 2
}
